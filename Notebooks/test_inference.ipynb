{
 "cells": [
  {
   "cell_type": "code",
   "execution_count": null,
   "metadata": {},
   "outputs": [],
   "source": [
    "import os\n",
    "import pandas as pd\n",
    "from natsort import natsorted \n",
    "import numpy as np\n",
    "\n",
    "#directory where data is stored\n",
    "unzipped_data_dir = r\"c:\\Users\\ramah\\Desktop\\DATA 608 Files\\Flight_Route_Arrival_Inferences\\Unzipped_Historical_Data\"\n",
    "\n",
    "# lists all csv files in directory\n",
    "csv_files = [f for f in os.listdir(unzipped_data_dir) if f.endswith(\".csv\")]\n",
    "\n",
    "#sorting the list of all csv fils in directory bcs they were out of order\n",
    "csv_files = natsorted(csv_files)\n"
   ]
  },
  {
   "cell_type": "code",
   "execution_count": null,
   "metadata": {},
   "outputs": [],
   "source": [
    "# selecting the first csv file \n",
    "sample_file = os.path.join(unzipped_data_dir, csv_files[0])\n",
    "df = pd.read_csv(sample_file)\n",
    "\n",
    "#dropping all cancelled flights\n",
    "df = df[df[\"CANCELLED\"] == 0]"
   ]
  },
  {
   "cell_type": "code",
   "execution_count": null,
   "metadata": {},
   "outputs": [],
   "source": [
    "delay_cols = [\"DEP_DELAY\", \"ARR_DELAY\", \"CARRIER_DELAY\", \"WEATHER_DELAY\", \"NAS_DELAY\", \"SECURITY_DELAY\", \"LATE_AIRCRAFT_DELAY\"]\n",
    "\n",
    "# replace nan with a 0\n",
    "df[delay_cols] = df[delay_cols].fillna(0)\n",
    "\n",
    "# summing delay column\n",
    "df[\"Delay\"] = df[delay_cols].sum(axis=1)"
   ]
  },
  {
   "cell_type": "code",
   "execution_count": null,
   "metadata": {},
   "outputs": [],
   "source": [
    "#takes into consideration the timestamp (all the same i believe - 12:00AM)\n",
    "df[\"FL_DATE\"] = pd.to_datetime(df[\"FL_DATE\"], format=\"%m/%d/%Y %I:%M:%S %p\", errors=\"coerce\")\n",
    "\n",
    "# removes the timestamp\n",
    "df[\"FL_DATE\"] = df[\"FL_DATE\"].dt.date\n",
    "\n",
    "df[\"FL_DATE\"] = pd.to_datetime(df[\"FL_DATE\"])"
   ]
  },
  {
   "cell_type": "code",
   "execution_count": null,
   "metadata": {},
   "outputs": [],
   "source": [
    "# assigning seasons depending on month\n",
    "def get_season(month):\n",
    "    if month in [12, 1, 2]:\n",
    "        return \"Winter\"\n",
    "    elif month in [3, 4, 5]:\n",
    "        return \"Spring\"\n",
    "    elif month in [6, 7, 8]:\n",
    "        return \"Summer\"\n",
    "    elif month in [9,10,11]:\n",
    "        return \"Fall\"\n",
    "    else:\n",
    "        return \"NA\" #is this fine?\n",
    "\n",
    "# dt.month extracts month from datetime column, and applies the above function into new \"Season\" column\n",
    "df[\"Season\"] = df[\"FL_DATE\"].dt.month.apply(get_season)"
   ]
  },
  {
   "cell_type": "code",
   "execution_count": null,
   "metadata": {},
   "outputs": [],
   "source": [
    "#categorizing time of day flight occured based on departure time\n",
    "def categorize_time(dep_time):\n",
    "    if 500 <= dep_time < 800:\n",
    "        return \"Early Morning\"\n",
    "    elif 800 <= dep_time < 1200:\n",
    "        return \" Late Morning\"\n",
    "    elif 1200 <= dep_time < 1500:\n",
    "        return \"Early Afternoon\"\n",
    "    elif 1500 <= dep_time < 1700:\n",
    "        return \"Late Afternoon\"\n",
    "    elif 1700 <= dep_time < 1900:\n",
    "        return \"Early Evening\"\n",
    "    elif 1900 <= dep_time < 2100:\n",
    "        return \"Late Evening\"\n",
    "    elif 2100 <= dep_time < 0:\n",
    "        return \"Night\"\n",
    "\n",
    "\n",
    "# applied categorize_time function to the dep_time column \n",
    "df[\"Time_of_Day\"] = df[\"DEP_TIME\"].apply(categorize_time)"
   ]
  },
  {
   "cell_type": "code",
   "execution_count": null,
   "metadata": {},
   "outputs": [],
   "source": [
    "df[\"Route_Pair\"] = df[\"ORIGIN\"] + \" to \" + df[\"DEST\"]\n",
    "\n",
    "#grouping data by Route-Pair, Time of Day, Airline (Carrier), and Season and then calculating the mean and sd for their delay \n",
    "grouped_df = df.groupby([\"Route_Pair\", \"Time_of_Day\", \"OP_CARRIER\", \"Season\"])[\"Delay\"].agg([\"mean\", \"std\", \"count\"]).reset_index()\n",
    "grouped_df"
   ]
  },
  {
   "cell_type": "code",
   "execution_count": null,
   "metadata": {},
   "outputs": [],
   "source": [
    "#second half of CI formula (1.96 for Z-score of 95% CI)\n",
    "grouped_df[\"CI_2nd_Half\"] = 1.96 * (grouped_df[\"std\"] / np.sqrt(grouped_df[\"count\"]))\n",
    "\n",
    "#lower and upper bounds \n",
    "grouped_df[\"CI_Lower\"] = grouped_df[\"mean\"] - grouped_df[\"CI_2nd_Half\"]\n",
    "grouped_df[\"CI_Upper\"] = grouped_df[\"mean\"] + grouped_df[\"CI_2nd_Half\"]\n",
    "\n",
    "\n",
    "# Filter rows where count is 1 (aka only one flight in group so cant perform CI calculations)\n",
    "count_ones_rows = grouped_df[grouped_df[\"count\"] == 1]\n"
   ]
  },
  {
   "cell_type": "code",
   "execution_count": null,
   "metadata": {},
   "outputs": [],
   "source": [
    "#example of flights from JFK to LAX\n",
    "\n",
    "grouped_df[grouped_df[\"Route_Pair\"] == \"JFK to LAX\"]"
   ]
  },
  {
   "cell_type": "code",
   "execution_count": null,
   "metadata": {},
   "outputs": [],
   "source": []
  }
 ],
 "metadata": {
  "kernelspec": {
   "display_name": "Python 3",
   "language": "python",
   "name": "python3"
  },
  "language_info": {
   "name": "python",
   "version": "3.12.6"
  }
 },
 "nbformat": 4,
 "nbformat_minor": 2
}
